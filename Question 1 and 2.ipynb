{
 "cells": [
  {
   "cell_type": "markdown",
   "id": "c76a526f-d8f2-4d9e-b693-bfb40893fbbe",
   "metadata": {},
   "source": [
    "**Future First Quant & Algo Assignment**\n",
    "\n",
    "Abhishek Singh\n",
    "\n",
    "7977252897"
   ]
  },
  {
   "cell_type": "markdown",
   "id": "e0bfdc35-6a8c-48c4-839e-b02d62dbbf85",
   "metadata": {},
   "source": [
    "**Question 1** - Finding out all the segments of days on which you buy and sell the\n",
    "stock so that in between those days your profit is maximum."
   ]
  },
  {
   "cell_type": "markdown",
   "id": "61c31dea-efb9-4191-9daf-5d7699f345f7",
   "metadata": {},
   "source": [
    "Task is to create a function **StockBuySell()** which will take an array A[] and N as input parameters and finds the days of buying and\n",
    "selling stock. The function will return a 2D list of integers containing all the buy-sell pairs i.e. first value of pair will represent the day on which you buy the stock and second value represent the day on which you sell that stock. If there is No Profit, return an empty list."
   ]
  },
  {
   "cell_type": "markdown",
   "id": "01fc81c1-7eb8-45e3-8069-ddd585209bfb",
   "metadata": {},
   "source": [
    "**Approach**\n",
    "\n",
    "Breaking the problem into parts- \n",
    "\n",
    "1. deciding the input parameters and output result - we got it through the problem itself. ie A[] and N. and Result[] which will contain pairs of value of buy and sell day so two variables we are declaring as B and S.\n",
    "2. building the logic and steps mentioned below\n",
    "\n",
    "Here's a step-by-step explanation of the code:\n",
    "\n",
    "1. def StockBuySell(A,N): - This line defines the function StockBuySell with two parameters, an array A and an integer N.\n",
    "\n",
    "2. res=[] - This line initializes an empty list called res, which will be used to store the buy and sell indices.\n",
    "\n",
    "3. B=0 and S=0 - These lines initialize the variables B and S to zero, which will be used to keep track of the buy and sell indices, respectively.\n",
    "\n",
    "4. for i in range(0,N): - This line starts a for loop that iterates over the range from 0 to N-1.\n",
    "\n",
    "5. if A[i]>A[S]: - This line checks if the current element of A at index i is greater than the element at index S. If it is, then the index S is updated to i.\n",
    "\n",
    "6. else: - If the current element of A at index i is not greater than the element at index S, then the following lines of code are executed:\n",
    "\n",
    "7. if A[S]-A[B]>0: - This line checks if the difference between the element at index S and the element at index B is greater than zero. If it is, then the indices B and S are appended to the list res as a tuple.\n",
    "\n",
    "8. B=S=i - This line updates the values of B and S to the current index i, as we need to start a new buy-sell pair.\n",
    "\n",
    "9. if A[S] - A[B] > 0: - This line checks if the difference between the element at index S and the element at index B is greater than zero. If it is, then the indices B and S are appended to the list res as a tuple.\n",
    "\n",
    "10. return res - This line returns the list of tuples representing the buy and sell indices that maximize profit.\n",
    "\n",
    "In summary, the function iterates over the array A and keeps track of the highest value and the lowest value seen so far. Whenever a higher value is found, the highest value seen so far is updated. Whenever a lower value is found, the profit between the highest and lowest values is calculated and stored in the result list res. If the loop finishes and there is still a profit to be made, the last buy-sell pair is appended to res."
   ]
  },
  {
   "cell_type": "code",
   "execution_count": 2,
   "id": "af61e8f4-39d2-4ff7-9d18-a766c9dc6ee0",
   "metadata": {},
   "outputs": [],
   "source": [
    "def StockBuySell(A,N):\n",
    "#initialising all the variables required\n",
    "    res=[]\n",
    "    B=0\n",
    "    S=0\n",
    "#to gain maximum profit we will always sell at the highest price. therefore building logic such that S will be index for the highest value in A[]    \n",
    "    for i in range(0,N):\n",
    "        if A[i]>A[S]: \n",
    "            S=i\n",
    "        else:\n",
    "            if A[S]-A[B]>0:\n",
    "                res.append([B,S])\n",
    "            B=S=i\n",
    "            \n",
    "    if A[S] - A[B] > 0:\n",
    "        res.append([B, S])\n",
    "    \n",
    "    return res    \n"
   ]
  },
  {
   "cell_type": "code",
   "execution_count": 4,
   "id": "9cd9e9c6-0399-492c-8b63-f298f50db9a0",
   "metadata": {},
   "outputs": [
    {
     "data": {
      "text/plain": [
       "[]"
      ]
     },
     "execution_count": 4,
     "metadata": {},
     "output_type": "execute_result"
    }
   ],
   "source": [
    "N = 5\n",
    "A = [1,1,1,1,1]\n",
    "StockBuySell(A, N)"
   ]
  },
  {
   "cell_type": "markdown",
   "id": "c59aa0d4-e6ca-4abd-a46f-5c04fa2eac00",
   "metadata": {},
   "source": [
    "**Question 2** - Figuring out logic to group input table into the output table as mentioned."
   ]
  },
  {
   "cell_type": "markdown",
   "id": "b4119098-f793-42bd-95cd-1577ff1251a6",
   "metadata": {},
   "source": [
    "**Approach** \n",
    "\n",
    "Breaking into parts- we can observe that we want the output grouped by the column group\n",
    "\n",
    "Step by step approach - \n",
    "\n",
    "1. Group the DataFrame by the \"Group\" column.\n",
    "2. Calculate group statistics using the groupby access function.\n",
    "3. Calculate the sum of the \"First\" column for each group and add it to the group statistics DataFrame.\n",
    "4.  Sort the output table by the \"Group\" column.\n"
   ]
  },
  {
   "cell_type": "code",
   "execution_count": 5,
   "id": "74c7c576-da97-48b8-ae78-8f4c626a6719",
   "metadata": {},
   "outputs": [],
   "source": [
    "import pandas as pd\n",
    "import numpy as np\n",
    "\n",
    "# Load the data from the file\n",
    "df = pd.read_excel(\"C:/Users/Asus/Downloads/Test Question 2.xlsx\")\n",
    "\n",
    "# Group the input table by \"Group\" column\n",
    "grouped = df.groupby(\"Group\")\n",
    "\n",
    "# Calculate the group statistics using groupby access function\n",
    "group_stats = grouped.agg(\n",
    "    First=(\"First\", \"first\"),\n",
    "    Max=(\"Max\", \"max\"),\n",
    "    Min=(\"Min\", \"min\"),\n",
    "    Last=(\"Last\", \"last\")\n",
    "    \n",
    ").reset_index()\n",
    "group_stats[\"Sum\"] = df.groupby(\"Group\")[\"First\"].sum().values\n",
    "\n",
    "# Sort the output table by \"Group\" column\n",
    "output_table = group_stats.sort_values(\"Group\")"
   ]
  },
  {
   "cell_type": "code",
   "execution_count": 6,
   "id": "50266f6a-9b1e-4548-ac64-ab30aa4b9749",
   "metadata": {},
   "outputs": [
    {
     "data": {
      "text/html": [
       "<div>\n",
       "<style scoped>\n",
       "    .dataframe tbody tr th:only-of-type {\n",
       "        vertical-align: middle;\n",
       "    }\n",
       "\n",
       "    .dataframe tbody tr th {\n",
       "        vertical-align: top;\n",
       "    }\n",
       "\n",
       "    .dataframe thead th {\n",
       "        text-align: right;\n",
       "    }\n",
       "</style>\n",
       "<table border=\"1\" class=\"dataframe\">\n",
       "  <thead>\n",
       "    <tr style=\"text-align: right;\">\n",
       "      <th></th>\n",
       "      <th>Group</th>\n",
       "      <th>First</th>\n",
       "      <th>Max</th>\n",
       "      <th>Min</th>\n",
       "      <th>Last</th>\n",
       "      <th>Sum</th>\n",
       "    </tr>\n",
       "  </thead>\n",
       "  <tbody>\n",
       "    <tr>\n",
       "      <th>0</th>\n",
       "      <td>1</td>\n",
       "      <td>10</td>\n",
       "      <td>25</td>\n",
       "      <td>5</td>\n",
       "      <td>5</td>\n",
       "      <td>55</td>\n",
       "    </tr>\n",
       "    <tr>\n",
       "      <th>1</th>\n",
       "      <td>2</td>\n",
       "      <td>20</td>\n",
       "      <td>20</td>\n",
       "      <td>10</td>\n",
       "      <td>10</td>\n",
       "      <td>45</td>\n",
       "    </tr>\n",
       "    <tr>\n",
       "      <th>2</th>\n",
       "      <td>3</td>\n",
       "      <td>5</td>\n",
       "      <td>35</td>\n",
       "      <td>5</td>\n",
       "      <td>35</td>\n",
       "      <td>115</td>\n",
       "    </tr>\n",
       "    <tr>\n",
       "      <th>3</th>\n",
       "      <td>4</td>\n",
       "      <td>10</td>\n",
       "      <td>55</td>\n",
       "      <td>10</td>\n",
       "      <td>55</td>\n",
       "      <td>115</td>\n",
       "    </tr>\n",
       "    <tr>\n",
       "      <th>4</th>\n",
       "      <td>5</td>\n",
       "      <td>30</td>\n",
       "      <td>40</td>\n",
       "      <td>20</td>\n",
       "      <td>20</td>\n",
       "      <td>90</td>\n",
       "    </tr>\n",
       "  </tbody>\n",
       "</table>\n",
       "</div>"
      ],
      "text/plain": [
       "   Group  First  Max  Min  Last  Sum\n",
       "0      1     10   25    5     5   55\n",
       "1      2     20   20   10    10   45\n",
       "2      3      5   35    5    35  115\n",
       "3      4     10   55   10    55  115\n",
       "4      5     30   40   20    20   90"
      ]
     },
     "execution_count": 6,
     "metadata": {},
     "output_type": "execute_result"
    }
   ],
   "source": [
    "output_table"
   ]
  },
  {
   "cell_type": "code",
   "execution_count": null,
   "id": "51b3ae0f-dd9a-4ded-b2cf-56f02ef162d7",
   "metadata": {},
   "outputs": [],
   "source": []
  },
  {
   "cell_type": "code",
   "execution_count": null,
   "id": "dd558837-d85f-4873-bef8-bd954e886a6d",
   "metadata": {},
   "outputs": [],
   "source": []
  },
  {
   "cell_type": "code",
   "execution_count": null,
   "id": "0a88097a-5882-4d58-9e11-74e4958e1a60",
   "metadata": {},
   "outputs": [],
   "source": []
  }
 ],
 "metadata": {
  "kernelspec": {
   "display_name": "Python 3 (ipykernel)",
   "language": "python",
   "name": "python3"
  },
  "language_info": {
   "codemirror_mode": {
    "name": "ipython",
    "version": 3
   },
   "file_extension": ".py",
   "mimetype": "text/x-python",
   "name": "python",
   "nbconvert_exporter": "python",
   "pygments_lexer": "ipython3",
   "version": "3.9.12"
  }
 },
 "nbformat": 4,
 "nbformat_minor": 5
}
